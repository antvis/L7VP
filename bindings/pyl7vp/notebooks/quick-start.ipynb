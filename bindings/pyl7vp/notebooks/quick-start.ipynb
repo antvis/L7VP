{
  "cells": [
    {
      "cell_type": "markdown",
      "metadata": {
        "id": "3a7-CDgFZBFo"
      },
      "source": [
        "## PyL7VP in Notebook"
      ]
    },
    {
      "cell_type": "markdown",
      "metadata": {
        "id": "cBCn5mQ0m6ec"
      },
      "source": [
        "## Data"
      ]
    },
    {
      "cell_type": "code",
      "execution_count": null,
      "metadata": {
        "id": "vemF0Scim3M6"
      },
      "outputs": [],
      "source": [
        "data = [\n",
        "  { \"longitude\": 105.005, \"latitude\": 32.349, \"mag\": 5.2 },\n",
        "  { \"longitude\": 104.602, \"latitude\": 32.067, \"mag\": 3 },\n",
        "  { \"longitude\": 103.665, \"latitude\": 31.29, \"mag\": 6 },\n",
        "  { \"longitude\": 105.275, \"latitude\": 32.416, \"mag\": 2 }\n",
        "]"
      ]
    },
    {
      "cell_type": "markdown",
      "metadata": {
        "id": "7G_-MgoBneqq"
      },
      "source": [
        "## Add dataset"
      ]
    },
    {
      "cell_type": "code",
      "execution_count": null,
      "metadata": {
        "colab": {
          "base_uri": "https://localhost:8080/"
        },
        "id": "5AUyaxmonZhQ",
        "outputId": "6010e84a-286e-40a6-f559-488fac6758ca"
      },
      "outputs": [],
      "source": [
        "from pyl7vp import L7VP\n",
        "\n",
        "l7vp_map = L7VP(height = 600)\n",
        "\n",
        "\n",
        "# Add dataset to map\n",
        "l7vp_map.add_dataset({\"id\": \"my_dataset\", \"type\": 'local', \"data\": data})"
      ]
    },
    {
      "cell_type": "markdown",
      "metadata": {
        "id": "uK11oa2LZr5H"
      },
      "source": [
        "## Display map"
      ]
    },
    {
      "cell_type": "code",
      "execution_count": null,
      "metadata": {
        "colab": {
          "base_uri": "https://localhost:8080/",
          "height": 621
        },
        "id": "GbBSE-aAZyS4",
        "outputId": "d4431caf-1975-49f7-b087-0aa206fd0c52"
      },
      "outputs": [],
      "source": [
        "# Set config\n",
        "l7vp_map.set_config({\n",
        "  \"map\": {\n",
        "    \"type\": \"Gaode\",\n",
        "    \"config\": {\n",
        "            \"zoom\": 7,\n",
        "            \"center\": [104.615357, 32.068745],\n",
        "            \"style\": 'dark',\n",
        "        },\n",
        "  },\n",
        "})\n",
        "\n",
        "# print datasets and config\n",
        "l7vp_map.datasets\n",
        "l7vp_map.config\n",
        "\n",
        "# Display map\n",
        "l7vp_map.show()"
      ]
    },
    {
      "cell_type": "markdown",
      "metadata": {
        "id": "-EXcbq6jY7om"
      },
      "source": [
        "## Customize Map"
      ]
    },
    {
      "cell_type": "markdown",
      "metadata": {
        "id": "LcdzQZp8Kpg7"
      },
      "source": [
        "### Add Layer\n",
        "\n",
        "![](https://mdn.alipayobjects.com/huamei_qa8qxu/afts/img/A*pAh4TZBM4-0AAAAAAAAAAAAADmJ7AQ/original)\n",
        "\n",
        "\n",
        "More in [Config Map Widget](https://www.yuque.com/antv/htpfbw/usrw68bir8tt0yxy#LQzPy)"
      ]
    },
    {
      "cell_type": "markdown",
      "metadata": {
        "id": "M5oSBsDHZ_ti"
      },
      "source": [
        "## Save to HTML File"
      ]
    },
    {
      "cell_type": "code",
      "execution_count": null,
      "metadata": {
        "colab": {
          "base_uri": "https://localhost:8080/",
          "height": 35
        },
        "id": "eYWGcysKaC1M",
        "outputId": "56bcbf70-d14f-40a7-c630-9d5d69760221"
      },
      "outputs": [],
      "source": [
        "# save to html file\n",
        "l7vp_map.save_to_html(\"map.html\")"
      ]
    }
  ],
  "metadata": {
    "colab": {
      "provenance": []
    },
    "kernelspec": {
      "display_name": "Python 3",
      "name": "python3"
    },
    "language_info": {
      "name": "python"
    }
  },
  "nbformat": 4,
  "nbformat_minor": 0
}
